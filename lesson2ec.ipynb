{
 "cells": [
  {
   "cell_type": "code",
   "execution_count": 1,
   "id": "5277dbd5",
   "metadata": {},
   "outputs": [
    {
     "name": "stdout",
     "output_type": "stream",
     "text": [
      "Element is string r\n",
      "Element is numberic 10\n",
      "Element is numberic 24\n",
      "Element is string b\n",
      "Element is something else {1, 2, 3}\n"
     ]
    }
   ],
   "source": [
    "my = [\"r\", 10, 24, \"b\", {1,2,3}]\n",
    "for element in my:\n",
    "    if type(element) == int:\n",
    "        print(\"Element is numberic\", element)\n",
    "    elif  type(element) == str:\n",
    "        print(\"Element is string\", element)\n",
    "    else:\n",
    "        print(\"Element is something else\", element)\n",
    "        "
   ]
  },
  {
   "cell_type": "code",
   "execution_count": null,
   "id": "0ce6a359",
   "metadata": {},
   "outputs": [],
   "source": []
  }
 ],
 "metadata": {
  "kernelspec": {
   "display_name": "Python 3 (ipykernel)",
   "language": "python",
   "name": "python3"
  },
  "language_info": {
   "codemirror_mode": {
    "name": "ipython",
    "version": 3
   },
   "file_extension": ".py",
   "mimetype": "text/x-python",
   "name": "python",
   "nbconvert_exporter": "python",
   "pygments_lexer": "ipython3",
   "version": "3.9.7"
  }
 },
 "nbformat": 4,
 "nbformat_minor": 5
}
