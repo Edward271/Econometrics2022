{
 "cells": [
  {
   "cell_type": "code",
   "execution_count": 3,
   "id": "2a5e4e55",
   "metadata": {},
   "outputs": [
    {
     "name": "stdout",
     "output_type": "stream",
     "text": [
      "['Ashot', 'Sahak', 'Edo', 'Xcho']\n"
     ]
    }
   ],
   "source": [
    "txeqi_anunner = [\"Ashot\", \"Sahak\", \"Edo\", \"Xcho\"]\n",
    "print(txeqi_anunner)"
   ]
  },
  {
   "cell_type": "markdown",
   "id": "55e4bc57",
   "metadata": {},
   "source": [
    "# list Набор данных которые можно изменить \n"
   ]
  },
  {
   "cell_type": "code",
   "execution_count": 4,
   "id": "9d8d58a3",
   "metadata": {},
   "outputs": [],
   "source": [
    "txeqi_anunner.append(\"Styop\")"
   ]
  },
  {
   "cell_type": "code",
   "execution_count": 5,
   "id": "87fd7410",
   "metadata": {},
   "outputs": [
    {
     "data": {
      "text/plain": [
       "['Ashot', 'Sahak', 'Edo', 'Xcho', 'Styop']"
      ]
     },
     "execution_count": 5,
     "metadata": {},
     "output_type": "execute_result"
    }
   ],
   "source": [
    "txeqi_anunner"
   ]
  },
  {
   "cell_type": "code",
   "execution_count": 6,
   "id": "6a250310",
   "metadata": {},
   "outputs": [],
   "source": [
    "txeqi_anunner.remove(\"Ashot\")"
   ]
  },
  {
   "cell_type": "code",
   "execution_count": 7,
   "id": "9af29927",
   "metadata": {},
   "outputs": [
    {
     "data": {
      "text/plain": [
       "['Sahak', 'Edo', 'Xcho', 'Styop']"
      ]
     },
     "execution_count": 7,
     "metadata": {},
     "output_type": "execute_result"
    }
   ],
   "source": [
    "txeqi_anunner"
   ]
  },
  {
   "cell_type": "code",
   "execution_count": 8,
   "id": "f107e1f1",
   "metadata": {},
   "outputs": [
    {
     "name": "stdout",
     "output_type": "stream",
     "text": [
      "['Sahak', 'Edo', 'Xcho']\n"
     ]
    }
   ],
   "source": [
    "txeqi_anunner.pop()\n",
    "print(txeqi_anunner)"
   ]
  },
  {
   "cell_type": "markdown",
   "id": "2aca25a5",
   "metadata": {},
   "source": [
    "# tuple неизменяемый набор данных "
   ]
  },
  {
   "cell_type": "code",
   "execution_count": null,
   "id": "69506a1d",
   "metadata": {},
   "outputs": [],
   "source": [
    "mater = (\"chkut\", \"but\", \"cucamat\")\n"
   ]
  },
  {
   "cell_type": "markdown",
   "id": "4c022a8e",
   "metadata": {},
   "source": [
    "# Set набор уникальных данных "
   ]
  },
  {
   "cell_type": "code",
   "execution_count": 10,
   "id": "8ea9194a",
   "metadata": {},
   "outputs": [
    {
     "data": {
      "text/plain": [
       "{'Edo', 'Miqo', 'Vaho'}"
      ]
     },
     "execution_count": 10,
     "metadata": {},
     "output_type": "execute_result"
    }
   ],
   "source": [
    "anunner = {\"Edo\", \"Miqo\", \"Vaho\", \"Edo\", \"Edo\", \"Edo\", \"Edo\", \"Edo\", \"Edo\"}\n",
    "anunner"
   ]
  },
  {
   "cell_type": "code",
   "execution_count": 11,
   "id": "1377c10f",
   "metadata": {},
   "outputs": [
    {
     "data": {
      "text/plain": [
       "221"
      ]
     },
     "execution_count": 11,
     "metadata": {},
     "output_type": "execute_result"
    }
   ],
   "source": [
    "a = 13\n",
    "b = 17\n",
    "c = a * b\n",
    "c\n"
   ]
  },
  {
   "cell_type": "code",
   "execution_count": 13,
   "id": "7b73bd7f",
   "metadata": {},
   "outputs": [
    {
     "data": {
      "text/plain": [
       "True"
      ]
     },
     "execution_count": 13,
     "metadata": {},
     "output_type": "execute_result"
    }
   ],
   "source": [
    "a != b"
   ]
  },
  {
   "cell_type": "code",
   "execution_count": 14,
   "id": "e2b78e1f",
   "metadata": {},
   "outputs": [
    {
     "data": {
      "text/plain": [
       "False"
      ]
     },
     "execution_count": 14,
     "metadata": {},
     "output_type": "execute_result"
    }
   ],
   "source": [
    "a > b"
   ]
  },
  {
   "cell_type": "markdown",
   "id": "a034ea6f",
   "metadata": {},
   "source": [
    "# 1. declare for loop for numbers in range of your choice and multiply each number by 5\n",
    "# 2. declare list of length 10 and with while loop decrease it each time by 1 element"
   ]
  },
  {
   "cell_type": "code",
   "execution_count": 26,
   "id": "8c95ab8c",
   "metadata": {
    "scrolled": true
   },
   "outputs": [
    {
     "name": "stdout",
     "output_type": "stream",
     "text": [
      "0\n",
      "5\n",
      "10\n",
      "15\n",
      "20\n",
      "25\n",
      "30\n",
      "35\n",
      "40\n",
      "45\n",
      "50\n",
      "55\n",
      "60\n",
      "65\n"
     ]
    }
   ],
   "source": [
    "for a in range(14):\n",
    "    a *= 5\n",
    "    print(a)\n",
    "    "
   ]
  },
  {
   "cell_type": "code",
   "execution_count": 36,
   "id": "110d9f21",
   "metadata": {},
   "outputs": [
    {
     "name": "stdout",
     "output_type": "stream",
     "text": [
      "['text', 8652, 'year', 5987, 'vectgregor', 3213, 6313, 'rub', 4968]\n",
      "['text', 8652, 'year', 5987, 'vectgregor', 3213, 6313, 'rub']\n",
      "['text', 8652, 'year', 5987, 'vectgregor', 3213, 6313]\n",
      "['text', 8652, 'year', 5987, 'vectgregor', 3213]\n",
      "['text', 8652, 'year', 5987, 'vectgregor']\n"
     ]
    }
   ],
   "source": [
    "list_eco = [\"text\", 8652, \"year\", 5987, \"vectgregor\", 3213, 6313, \"rub\", 4968, \"child\"]\n",
    "n = 0\n",
    "while n < len(list_eco):\n",
    "    list_eco.pop()\n",
    "    print(list_eco)\n",
    "    n += 1\n",
    "    #не знаю почему len не работает "
   ]
  },
  {
   "cell_type": "code",
   "execution_count": 37,
   "id": "e02905b1",
   "metadata": {},
   "outputs": [
    {
     "data": {
      "text/plain": [
       "['text', 8652, 'year', 5987, 'vectgregor']"
      ]
     },
     "execution_count": 37,
     "metadata": {},
     "output_type": "execute_result"
    }
   ],
   "source": [
    "list_eco"
   ]
  },
  {
   "cell_type": "code",
   "execution_count": 38,
   "id": "7030a1e3",
   "metadata": {},
   "outputs": [
    {
     "name": "stdout",
     "output_type": "stream",
     "text": [
      "['text', 8652, 'year', 5987, 'vectgregor', 3213, 6313, 'rub', 4968]\n",
      "['text', 8652, 'year', 5987, 'vectgregor', 3213, 6313, 'rub']\n",
      "['text', 8652, 'year', 5987, 'vectgregor', 3213, 6313]\n",
      "['text', 8652, 'year', 5987, 'vectgregor', 3213]\n",
      "['text', 8652, 'year', 5987, 'vectgregor']\n",
      "['text', 8652, 'year', 5987]\n",
      "['text', 8652, 'year']\n",
      "['text', 8652]\n",
      "['text']\n",
      "[]\n"
     ]
    }
   ],
   "source": [
    "list_eco = [\"text\", 8652, \"year\", 5987, \"vectgregor\", 3213, 6313, \"rub\", 4968, \"child\"]\n",
    "n = 0\n",
    "while n < 10:\n",
    "    list_eco.pop()\n",
    "    print(list_eco)\n",
    "    n += 1"
   ]
  }
 ],
 "metadata": {
  "kernelspec": {
   "display_name": "Python 3 (ipykernel)",
   "language": "python",
   "name": "python3"
  },
  "language_info": {
   "codemirror_mode": {
    "name": "ipython",
    "version": 3
   },
   "file_extension": ".py",
   "mimetype": "text/x-python",
   "name": "python",
   "nbconvert_exporter": "python",
   "pygments_lexer": "ipython3",
   "version": "3.9.7"
  }
 },
 "nbformat": 4,
 "nbformat_minor": 5
}
