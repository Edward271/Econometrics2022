{
 "cells": [
  {
   "cell_type": "code",
   "execution_count": 1,
   "id": "00a3e963",
   "metadata": {},
   "outputs": [
    {
     "name": "stdout",
     "output_type": "stream",
     "text": [
      "[[ 39  61  17  31  20  70  86  18  45  21   6  81]\n",
      " [ 22  15  51  43   6   6  88  81  30  66  58  20]\n",
      " [ 73  35  34  48  15  77  48  36  31  49  63  45]\n",
      " [ 33  61  52  60  63  42  54  96  30   1  20  54]\n",
      " [ 99  27  73  96  69  52  55  60  43  82  63  40]\n",
      " [ 29  30  17  40  41  67  44  82  64  83   0  42]\n",
      " [ 46  94  81   5  25   8  98  40  45  62  90  51]\n",
      " [100  94  15  85  32  29  87  57  76  15  20  93]\n",
      " [  0  35   1  44  39  43 100  33  31  41  84  13]\n",
      " [  6   0  76  72  25  38   7  41  78  17   0  81]\n",
      " [ 67  13  51  39  86  76  76  26  97  24  66  90]\n",
      " [ 74  47  15  27  76  83  90  92   3  87  95  11]]\n",
      "[22 15 51 43  6  6 88 81 30 66 58 20]\n",
      "[20  6 15 63 69 41 25 32 39 25 86 76]\n",
      "[ 39  61  17  31  20  70  86  18  45  21   6  81  22  15  51  43   6   6\n",
      "  88  81  30  66  58  20  73  35  34  48  15  77  48  36  31  49  63  45\n",
      "  33  61  52  60  63  42  54  96  30  20  54  99  27  73  96  69  52  55\n",
      "  60  43  82  63  40  29  30  17  40  41  67  44  82  64  83  42  46  94\n",
      "  81  25   8  98  40  45  62  90  51 100  94  15  85  32  29  87  57  76\n",
      "  15  20  93  35  44  39  43 100  33  31  41  84  13   6  76  72  25  38\n",
      "   7  41  78  17  81  67  13  51  39  86  76  76  26  97  24  66  90  74\n",
      "  47  15  27  76  83  90  92  87  95  11]\n"
     ]
    }
   ],
   "source": [
    "import numpy as np\n",
    "from random import randint\n",
    "matrix1 = np.empty((12,12), int)\n",
    "matrix2 = np.empty((12,12), int)\n",
    "\n",
    "for i in range(0, 12):\n",
    "    for j in range(0,12):\n",
    "        matrix1[i][j] = randint(0,100)\n",
    "        matrix2[i][j] = randint(0,100)\n",
    "print(matrix1)\n",
    "\n",
    "optional_row = matrix1[1]\n",
    "optional_col = matrix1[:, 4]\n",
    "\n",
    "print(optional_row)\n",
    "print(optional_col)\n",
    "\n",
    "print(matrix1[matrix1 > 5])"
   ]
  },
  {
   "cell_type": "code",
   "execution_count": null,
   "id": "7aba99d9",
   "metadata": {},
   "outputs": [],
   "source": []
  }
 ],
 "metadata": {
  "kernelspec": {
   "display_name": "Python 3 (ipykernel)",
   "language": "python",
   "name": "python3"
  },
  "language_info": {
   "codemirror_mode": {
    "name": "ipython",
    "version": 3
   },
   "file_extension": ".py",
   "mimetype": "text/x-python",
   "name": "python",
   "nbconvert_exporter": "python",
   "pygments_lexer": "ipython3",
   "version": "3.9.7"
  }
 },
 "nbformat": 4,
 "nbformat_minor": 5
}
